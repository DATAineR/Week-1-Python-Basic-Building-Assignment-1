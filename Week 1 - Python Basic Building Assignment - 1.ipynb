{
 "cells": [
  {
   "cell_type": "markdown",
   "id": "9d88fb7d",
   "metadata": {},
   "source": [
    "Q1. Create one variable containing following type of data:\n",
    "\n",
    "(i)\tstring\n",
    "\n",
    "(ii)\tlist\n",
    "\n",
    "(iii)\tfloat\n",
    "\n",
    "(iv)\ttuple"
   ]
  },
  {
   "cell_type": "markdown",
   "id": "6945871f",
   "metadata": {},
   "source": [
    "Solution :"
   ]
  },
  {
   "cell_type": "markdown",
   "id": "2bbb21e2",
   "metadata": {},
   "source": [
    "(i) string"
   ]
  },
  {
   "cell_type": "code",
   "execution_count": 1,
   "id": "66fffae1",
   "metadata": {},
   "outputs": [],
   "source": [
    "my_string = \"Hello, World!\""
   ]
  },
  {
   "cell_type": "code",
   "execution_count": 2,
   "id": "562d82e8",
   "metadata": {},
   "outputs": [
    {
     "data": {
      "text/plain": [
       "'Hello, World!'"
      ]
     },
     "execution_count": 2,
     "metadata": {},
     "output_type": "execute_result"
    }
   ],
   "source": [
    "my_string"
   ]
  },
  {
   "cell_type": "markdown",
   "id": "3e85222d",
   "metadata": {},
   "source": [
    "(ii) list"
   ]
  },
  {
   "cell_type": "code",
   "execution_count": 3,
   "id": "dfbf0732",
   "metadata": {},
   "outputs": [],
   "source": [
    "my_list = [1, 2, 3, 4, 5]"
   ]
  },
  {
   "cell_type": "code",
   "execution_count": 4,
   "id": "33999852",
   "metadata": {},
   "outputs": [
    {
     "data": {
      "text/plain": [
       "[1, 2, 3, 4, 5]"
      ]
     },
     "execution_count": 4,
     "metadata": {},
     "output_type": "execute_result"
    }
   ],
   "source": [
    "my_list"
   ]
  },
  {
   "cell_type": "markdown",
   "id": "90aa8e6c",
   "metadata": {},
   "source": [
    "(iii) float"
   ]
  },
  {
   "cell_type": "code",
   "execution_count": 5,
   "id": "ea3f0418",
   "metadata": {},
   "outputs": [],
   "source": [
    "my_float = 3.14"
   ]
  },
  {
   "cell_type": "code",
   "execution_count": 6,
   "id": "e91635db",
   "metadata": {},
   "outputs": [
    {
     "data": {
      "text/plain": [
       "3.14"
      ]
     },
     "execution_count": 6,
     "metadata": {},
     "output_type": "execute_result"
    }
   ],
   "source": [
    "my_float"
   ]
  },
  {
   "cell_type": "markdown",
   "id": "fd75ac6d",
   "metadata": {},
   "source": [
    "(iv) tuple"
   ]
  },
  {
   "cell_type": "code",
   "execution_count": 7,
   "id": "8c43b5e3",
   "metadata": {},
   "outputs": [],
   "source": [
    "my_tuple = (10, 20, 30)"
   ]
  },
  {
   "cell_type": "code",
   "execution_count": 8,
   "id": "a6b6ec87",
   "metadata": {},
   "outputs": [
    {
     "data": {
      "text/plain": [
       "(10, 20, 30)"
      ]
     },
     "execution_count": 8,
     "metadata": {},
     "output_type": "execute_result"
    }
   ],
   "source": [
    "my_tuple"
   ]
  },
  {
   "cell_type": "markdown",
   "id": "76ab2d8d",
   "metadata": {},
   "source": [
    "Q2. Given are some following variables containing data:\n",
    "\n",
    "(i)\tvar1 = ‘ ‘\n",
    "\n",
    "(ii) var2 = '[ DS , ML , Python]'\n",
    "\n",
    "(iii) var3 = [ 'DS' , 'ML' , 'Python' ]\n",
    "\n",
    "(iv) var4 = 1.\n",
    "\n",
    "What will be the data type of the above given variable."
   ]
  },
  {
   "cell_type": "markdown",
   "id": "b919ddfb",
   "metadata": {},
   "source": [
    "Solution :"
   ]
  },
  {
   "cell_type": "markdown",
   "id": "bd8d65b2",
   "metadata": {},
   "source": [
    "(i) var1 is assigned a string with a space character hence will have string (str) data type"
   ]
  },
  {
   "cell_type": "markdown",
   "id": "440feb9c",
   "metadata": {},
   "source": [
    "(ii) var2 is assigned a string that is used to represent a list, but it's enclosed in single quotes and contains spaces. Hence it will have string (str) data type"
   ]
  },
  {
   "cell_type": "markdown",
   "id": "6b007f90",
   "metadata": {},
   "source": [
    "(iii) var3 is assigned a list containing string elements. Hence its data type is list"
   ]
  },
  {
   "cell_type": "markdown",
   "id": "1ff1addc",
   "metadata": {},
   "source": [
    "(iv) var4 is assigned a floating-point number (1.0 with a decimal point). Hence its data type is float"
   ]
  },
  {
   "cell_type": "markdown",
   "id": "f61b6933",
   "metadata": {},
   "source": [
    "Q3. Explain the use of the following operators using an example:\n",
    "\n",
    "(i)\t/\n",
    "\n",
    "(ii) % \n",
    "\n",
    "(iii) //\n",
    "\n",
    "(iv) **"
   ]
  },
  {
   "cell_type": "markdown",
   "id": "d65a6e78",
   "metadata": {},
   "source": [
    "Solution :"
   ]
  },
  {
   "cell_type": "markdown",
   "id": "5cb692cb",
   "metadata": {},
   "source": [
    "(i) / (Division Operator):\n",
    "\n",
    "The / operator is used for division, and it returns a floating-point result."
   ]
  },
  {
   "cell_type": "code",
   "execution_count": 10,
   "id": "2493903a",
   "metadata": {},
   "outputs": [
    {
     "name": "stdout",
     "output_type": "stream",
     "text": [
      "3.3333333333333335\n"
     ]
    }
   ],
   "source": [
    "result = 10 / 3\n",
    "print(result)  # Output: 3.3333333333333335"
   ]
  },
  {
   "cell_type": "markdown",
   "id": "3121d6da",
   "metadata": {},
   "source": [
    "In this example, 10 divided by 3 results in a floating-point value, which is approximately 3.3333333333333335."
   ]
  },
  {
   "cell_type": "markdown",
   "id": "41385074",
   "metadata": {},
   "source": [
    "(ii) % (Modulus Operator):\n",
    "\n",
    "The % operator calculates the remainder when one number is divided by another."
   ]
  },
  {
   "cell_type": "code",
   "execution_count": 13,
   "id": "3304bbb2",
   "metadata": {},
   "outputs": [
    {
     "name": "stdout",
     "output_type": "stream",
     "text": [
      "1\n"
     ]
    }
   ],
   "source": [
    "remainder = 10 % 3\n",
    "print(remainder)  # Output: 1"
   ]
  },
  {
   "cell_type": "markdown",
   "id": "8b6f474b",
   "metadata": {},
   "source": [
    "Here, 10 divided by 3 leaves a remainder of 1."
   ]
  },
  {
   "cell_type": "markdown",
   "id": "18c74dca",
   "metadata": {},
   "source": [
    "(iii) // (Floor Division Operator):\n",
    "\n",
    "The // operator is used for floor division, and it returns the largest integer less than or equal to the result of the division. It essentially discards the decimal part."
   ]
  },
  {
   "cell_type": "code",
   "execution_count": 14,
   "id": "18146418",
   "metadata": {},
   "outputs": [
    {
     "name": "stdout",
     "output_type": "stream",
     "text": [
      "3\n"
     ]
    }
   ],
   "source": [
    "result = 10 // 3\n",
    "print(result)  # Output: 3"
   ]
  },
  {
   "cell_type": "markdown",
   "id": "fc538806",
   "metadata": {},
   "source": [
    "In this case, 10 divided by 3 results in 3 with the decimal part discarded."
   ]
  },
  {
   "cell_type": "markdown",
   "id": "0b7d60d1",
   "metadata": {},
   "source": [
    "(iv) ** (Exponentiation Operator):\n",
    "\n",
    "The ** operator is used for exponentiation, which means raising one number to the power of another."
   ]
  },
  {
   "cell_type": "code",
   "execution_count": 15,
   "id": "77397168",
   "metadata": {},
   "outputs": [
    {
     "name": "stdout",
     "output_type": "stream",
     "text": [
      "8\n"
     ]
    }
   ],
   "source": [
    "result = 2 ** 3\n",
    "print(result)  # Output: 8"
   ]
  },
  {
   "cell_type": "markdown",
   "id": "b8a64852",
   "metadata": {},
   "source": [
    "Here, 2 raised to the power of 3 equals 8."
   ]
  },
  {
   "cell_type": "markdown",
   "id": "8638529a",
   "metadata": {},
   "source": [
    "Q4. Create a list of length 10 of your choice containing multiple types of data. Using for loop print the element and its data type."
   ]
  },
  {
   "cell_type": "markdown",
   "id": "a22e734c",
   "metadata": {},
   "source": [
    "Solution :"
   ]
  },
  {
   "cell_type": "code",
   "execution_count": 16,
   "id": "24ba3d79",
   "metadata": {},
   "outputs": [
    {
     "name": "stdout",
     "output_type": "stream",
     "text": [
      "Element: 1, Data Type: <class 'int'>\n",
      "Element: Hello, Data Type: <class 'str'>\n",
      "Element: 3.14, Data Type: <class 'float'>\n",
      "Element: True, Data Type: <class 'bool'>\n",
      "Element: [1, 2, 3], Data Type: <class 'list'>\n",
      "Element: (4, 5), Data Type: <class 'tuple'>\n",
      "Element: {'name': 'Alice', 'age': 30}, Data Type: <class 'dict'>\n",
      "Element: None, Data Type: <class 'NoneType'>\n",
      "Element: 7, Data Type: <class 'int'>\n",
      "Element: False, Data Type: <class 'bool'>\n"
     ]
    }
   ],
   "source": [
    "my_list = [1, \"Hello\", 3.14, True, [1, 2, 3], (4, 5), {\"name\": \"Alice\", \"age\": 30}, None, 7, False]\n",
    "\n",
    "for element in my_list:\n",
    "    print(f\"Element: {element}, Data Type: {type(element)}\")"
   ]
  },
  {
   "cell_type": "markdown",
   "id": "ab63e807",
   "metadata": {},
   "source": [
    "Q5. Using a while loop, verify if the number A is purely divisible by number B and if so then how many \n",
    "times it can be divisible."
   ]
  },
  {
   "cell_type": "markdown",
   "id": "fb8ffb81",
   "metadata": {},
   "source": [
    "Solution :"
   ]
  },
  {
   "cell_type": "code",
   "execution_count": 29,
   "id": "fc20a813",
   "metadata": {},
   "outputs": [
    {
     "name": "stdout",
     "output_type": "stream",
     "text": [
      "Enter the value of A: 17\n",
      "Enter the value of B: 2\n",
      "0 times 2 can completely divide 17.\n"
     ]
    }
   ],
   "source": [
    "# Input the values of A and B\n",
    "A = int(input(\"Enter the value of A: \"))\n",
    "B = int(input(\"Enter the value of B: \"))\n",
    "C = A\n",
    "D = B\n",
    "\n",
    "# Initialize a count variable to keep track of divisions\n",
    "count = 0\n",
    "\n",
    "# Check if B is not zero (to avoid division by zero) and A is greater than or equal to B\n",
    "if B != 0 and A >= B:\n",
    "    while A % B == 0:\n",
    "        A = A / B  # Update A by dividing it by B\n",
    "        count += 1   # Increment the count for each successful division\n",
    "    print(f\"{count} times {D} can completely divide {C}.\")\n",
    "else:\n",
    "    print(\"B should be nonzero and A should be greater than or equal to B for division to occur.\")\n"
   ]
  },
  {
   "cell_type": "markdown",
   "id": "90bb0397",
   "metadata": {},
   "source": [
    "Q6. Create a list containing 25 int type data. Using for loop and if-else condition print if the element is \n",
    "divisible by 3 or not."
   ]
  },
  {
   "cell_type": "markdown",
   "id": "ab6a21ea",
   "metadata": {},
   "source": [
    "Solution :"
   ]
  },
  {
   "cell_type": "code",
   "execution_count": 31,
   "id": "a849a6cc",
   "metadata": {},
   "outputs": [
    {
     "name": "stdout",
     "output_type": "stream",
     "text": [
      "4 is not divisible by 3.\n",
      "9 is divisible by 3.\n",
      "12 is divisible by 3.\n",
      "7 is not divisible by 3.\n",
      "18 is divisible by 3.\n",
      "30 is divisible by 3.\n",
      "11 is not divisible by 3.\n",
      "21 is divisible by 3.\n",
      "15 is divisible by 3.\n",
      "8 is not divisible by 3.\n",
      "6 is divisible by 3.\n",
      "33 is divisible by 3.\n",
      "25 is not divisible by 3.\n",
      "14 is not divisible by 3.\n",
      "10 is not divisible by 3.\n",
      "3 is divisible by 3.\n",
      "27 is divisible by 3.\n",
      "22 is not divisible by 3.\n",
      "17 is not divisible by 3.\n",
      "19 is not divisible by 3.\n",
      "20 is not divisible by 3.\n",
      "2 is not divisible by 3.\n",
      "5 is not divisible by 3.\n",
      "13 is not divisible by 3.\n",
      "16 is not divisible by 3.\n"
     ]
    }
   ],
   "source": [
    "# Create a list containing 25 integers\n",
    "my_list = [4, 9, 12, 7, 18, 30, 11, 21, 15, 8, 6, 33, 25, 14, 10, 3, 27, 22, 17, 19, 20, 2, 5, 13, 16]\n",
    "\n",
    "# Iterate through the list and check if each element is divisible by 3\n",
    "for num in my_list:\n",
    "    if num % 3 == 0:\n",
    "        print(f\"{num} is divisible by 3.\")\n",
    "    else:\n",
    "        print(f\"{num} is not divisible by 3.\")\n"
   ]
  },
  {
   "cell_type": "markdown",
   "id": "266723bd",
   "metadata": {},
   "source": [
    "Q7. What do you understand about mutable and immutable data types? Give examples for both showing this property."
   ]
  },
  {
   "cell_type": "markdown",
   "id": "a65aa73f",
   "metadata": {},
   "source": [
    "Solution :"
   ]
  },
  {
   "cell_type": "markdown",
   "id": "45a1fef6",
   "metadata": {},
   "source": [
    "Mutable and immutable data types refer to how data can be modified or changed in programming languages like Python."
   ]
  },
  {
   "cell_type": "markdown",
   "id": "ff2295f4",
   "metadata": {},
   "source": [
    "Immutable Data Types:"
   ]
  },
  {
   "cell_type": "markdown",
   "id": "71a8f498",
   "metadata": {},
   "source": [
    "Immutable data types are those whose values cannot be changed after they are created.\n",
    "\n",
    "When you modify an immutable object, it actually creates a new object with the updated value, and the original object remains unchanged.\n",
    "\n",
    "Immutable objects are typically safer to use in multi-threaded environments because they can't be modified by multiple threads simultaneously."
   ]
  },
  {
   "cell_type": "markdown",
   "id": "de5eaa39",
   "metadata": {},
   "source": [
    "Common examples of immutable data types in Python include:"
   ]
  },
  {
   "cell_type": "markdown",
   "id": "70d1fb36",
   "metadata": {},
   "source": [
    "int (integers):"
   ]
  },
  {
   "cell_type": "code",
   "execution_count": 35,
   "id": "277798df",
   "metadata": {},
   "outputs": [],
   "source": [
    "x = 5\n",
    "x = x + 1  # Creates a new integer object with the value 6; x now references the new object."
   ]
  },
  {
   "cell_type": "code",
   "execution_count": 36,
   "id": "64b439c3",
   "metadata": {},
   "outputs": [
    {
     "data": {
      "text/plain": [
       "6"
      ]
     },
     "execution_count": 36,
     "metadata": {},
     "output_type": "execute_result"
    }
   ],
   "source": [
    "x"
   ]
  },
  {
   "cell_type": "markdown",
   "id": "93dbb278",
   "metadata": {},
   "source": [
    "float (floating-point numbers):"
   ]
  },
  {
   "cell_type": "code",
   "execution_count": 37,
   "id": "b9c8ebc4",
   "metadata": {},
   "outputs": [],
   "source": [
    "pi = 3.14159\n",
    "pi = pi + 0.01  # Creates a new float object with the value 3.15159; pi now references the new object."
   ]
  },
  {
   "cell_type": "code",
   "execution_count": 38,
   "id": "544a29a6",
   "metadata": {},
   "outputs": [
    {
     "data": {
      "text/plain": [
       "3.1515899999999997"
      ]
     },
     "execution_count": 38,
     "metadata": {},
     "output_type": "execute_result"
    }
   ],
   "source": [
    "pi"
   ]
  },
  {
   "cell_type": "markdown",
   "id": "6221bc80",
   "metadata": {},
   "source": [
    "str (strings):"
   ]
  },
  {
   "cell_type": "code",
   "execution_count": 39,
   "id": "9db8a2fa",
   "metadata": {},
   "outputs": [],
   "source": [
    "my_string = \"Hello\"\n",
    "my_string = my_string + \" World\"  # Creates a new string object with the value \"Hello World\"."
   ]
  },
  {
   "cell_type": "code",
   "execution_count": 40,
   "id": "bd467e17",
   "metadata": {},
   "outputs": [
    {
     "data": {
      "text/plain": [
       "'Hello World'"
      ]
     },
     "execution_count": 40,
     "metadata": {},
     "output_type": "execute_result"
    }
   ],
   "source": [
    "my_string"
   ]
  },
  {
   "cell_type": "markdown",
   "id": "42c45a9e",
   "metadata": {},
   "source": [
    "Mutable Data Types:"
   ]
  },
  {
   "cell_type": "markdown",
   "id": "3417c298",
   "metadata": {},
   "source": [
    "Mutable data types are those whose values can be changed after they are created.\n",
    "\n",
    "When you modify a mutable object, it is modified in place, and the same object is updated without creating a new one.\n",
    "\n",
    "Mutable objects can be more memory-efficient when you need to make many changes to the same data structure."
   ]
  },
  {
   "cell_type": "markdown",
   "id": "1a1b906c",
   "metadata": {},
   "source": [
    "Common examples of mutable data types in Python include:"
   ]
  },
  {
   "cell_type": "markdown",
   "id": "7137cc0c",
   "metadata": {},
   "source": [
    "list (lists):"
   ]
  },
  {
   "cell_type": "code",
   "execution_count": 41,
   "id": "ed1aea75",
   "metadata": {},
   "outputs": [],
   "source": [
    "my_list = [1, 2, 3]\n",
    "my_list.append(4)  # Modifies the original list by adding an element."
   ]
  },
  {
   "cell_type": "code",
   "execution_count": 42,
   "id": "350f285d",
   "metadata": {},
   "outputs": [
    {
     "data": {
      "text/plain": [
       "[1, 2, 3, 4]"
      ]
     },
     "execution_count": 42,
     "metadata": {},
     "output_type": "execute_result"
    }
   ],
   "source": [
    "my_list"
   ]
  },
  {
   "cell_type": "markdown",
   "id": "e771f355",
   "metadata": {},
   "source": [
    "dict (dictionaries):"
   ]
  },
  {
   "cell_type": "code",
   "execution_count": 43,
   "id": "005419f3",
   "metadata": {},
   "outputs": [],
   "source": [
    "my_dict = {\"name\": \"Alice\", \"age\": 30}\n",
    "my_dict[\"age\"] = 31  # Modifies the original dictionary by updating the 'age' key."
   ]
  },
  {
   "cell_type": "code",
   "execution_count": 44,
   "id": "a992c35e",
   "metadata": {},
   "outputs": [
    {
     "data": {
      "text/plain": [
       "{'name': 'Alice', 'age': 31}"
      ]
     },
     "execution_count": 44,
     "metadata": {},
     "output_type": "execute_result"
    }
   ],
   "source": [
    "my_dict"
   ]
  },
  {
   "cell_type": "markdown",
   "id": "93826d0c",
   "metadata": {},
   "source": [
    "set (sets):"
   ]
  },
  {
   "cell_type": "code",
   "execution_count": 45,
   "id": "2c93b1da",
   "metadata": {},
   "outputs": [],
   "source": [
    "my_set = {1, 2, 3}\n",
    "my_set.add(4)  # Modifies the original set by adding an element."
   ]
  },
  {
   "cell_type": "code",
   "execution_count": 46,
   "id": "6c954d70",
   "metadata": {},
   "outputs": [
    {
     "data": {
      "text/plain": [
       "{1, 2, 3, 4}"
      ]
     },
     "execution_count": 46,
     "metadata": {},
     "output_type": "execute_result"
    }
   ],
   "source": [
    "my_set"
   ]
  },
  {
   "cell_type": "code",
   "execution_count": null,
   "id": "d5abb3fa",
   "metadata": {},
   "outputs": [],
   "source": []
  }
 ],
 "metadata": {
  "kernelspec": {
   "display_name": "Python 3 (ipykernel)",
   "language": "python",
   "name": "python3"
  },
  "language_info": {
   "codemirror_mode": {
    "name": "ipython",
    "version": 3
   },
   "file_extension": ".py",
   "mimetype": "text/x-python",
   "name": "python",
   "nbconvert_exporter": "python",
   "pygments_lexer": "ipython3",
   "version": "3.11.4"
  }
 },
 "nbformat": 4,
 "nbformat_minor": 5
}
